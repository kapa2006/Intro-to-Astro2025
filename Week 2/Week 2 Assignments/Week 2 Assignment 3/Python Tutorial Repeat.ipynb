{
 "cells": [
  {
   "cell_type": "code",
   "execution_count": null,
   "id": "b2ed826c",
   "metadata": {},
   "outputs": [],
   "source": [
    "import numpy as np\n",
    "import matplotlib.pyplot as plt"
   ]
  },
  {
   "cell_type": "code",
   "execution_count": null,
   "id": "61a9289e",
   "metadata": {},
   "outputs": [],
   "source": [
    "print('Hello World')\n",
    "a, b = 3, 4\n",
    "print(\"The product of a and b is\", a * b)"
   ]
  },
  {
   "cell_type": "code",
   "execution_count": null,
   "id": "3680b7ec",
   "metadata": {},
   "outputs": [],
   "source": [
    "a = np.linspace(-100, 100, 1000, True)\n",
    "b = 2*a**2 + 5 ## We're essentially creating a graph of the function y = 2x^2 + 5\n",
    "plt.plot(a, b, '-k')\n",
    "plt.show()"
   ]
  },
  {
   "cell_type": "code",
   "execution_count": null,
   "id": "6d51ced4",
   "metadata": {},
   "outputs": [],
   "source": [
    "from astropy.io import fits"
   ]
  },
  {
   "cell_type": "code",
   "execution_count": null,
   "id": "f2b663eb",
   "metadata": {},
   "outputs": [],
   "source": [
    "img = fits.getdata(\"pdi_pi_collapsed.fits\", ext=1)"
   ]
  },
  {
   "cell_type": "code",
   "execution_count": null,
   "id": "08ee494b",
   "metadata": {},
   "outputs": [],
   "source": [
    "fig = plt.figure(figsize=(8,8)) # Figure settings\n",
    "\n",
    "image = plt.imshow(img, origin = 'lower', vmin=-0.001, vmax=0.01) # Plot settings, fits _is_ an image format so this makes sense\n",
    "cbar = fig.colorbar(image,shrink=0.82) # adds a colorbar for the surface brightness at that coordinate\n",
    "cbar.set_label('Surface Brightness (arb. units)', rotation=90,fontsize=12) \n",
    "plt.xlim([60,140])\n",
    "plt.ylim([60,140])\n",
    "plt.xlabel(r'$\\Delta$ RA [px]',fontsize=12)\n",
    "plt.ylabel(r'$\\Delta$ Dec [px]',fontsize=12)\n",
    "plt.savefig(\"Surface Brightness\")\n",
    "plt.show()\n"
   ]
  },
  {
   "cell_type": "code",
   "execution_count": null,
   "id": "c1ff07ce",
   "metadata": {},
   "outputs": [],
   "source": [
    "import pandas as pd"
   ]
  },
  {
   "cell_type": "code",
   "execution_count": null,
   "id": "6ff7574d",
   "metadata": {},
   "outputs": [],
   "source": [
    "stellar = pd.read_csv('closest20kstars.csv')\n",
    "\n",
    "fig = plt.figure(figsize=(10,10))\n",
    "\n",
    "plt.scatter(stellar['ra'], stellar['dec'], alpha = 0.8, s=12, lw = 0.5, ec = 'k', color = 'darkorchid')\n",
    "\n",
    "plt.xlim([0, 362])\n",
    "plt.ylim([-75, 75])\n",
    "plt.xlabel('RA [$\\degree$]', fontsize = 14)\n",
    "plt.ylabel('Dec [$\\degree$]', fontsize = 14)\n",
    "plt.title('Closest Stars 20,000 stars from Gaia Archive (DR2)', fontsize = 16)\n",
    "plt.savefig(\"Closes 20000 stars from the Gaia Archive\")"
   ]
  },
  {
   "cell_type": "code",
   "execution_count": 81,
   "id": "8550c78a",
   "metadata": {},
   "outputs": [
    {
     "name": "stdout",
     "output_type": "stream",
     "text": [
      "[0. 1. 1. 2.]\n"
     ]
    }
   ],
   "source": [
    "n = int(input(\"input the number\"))\n",
    "n_list = np.linspace(0, n, n+1, True)\n",
    "def fib(a):\n",
    "\tif a==1:\n",
    "\t\treturn 0\n",
    "\telif a==2:\n",
    "\t\treturn 1\n",
    "\telse:\n",
    "\t\treturn fib(a-1)+fib(a-2)\n",
    "\n",
    "\n",
    "for i in n_list:\n",
    "\tn_list[int(i)] = fib(i + 1)\n",
    "\n",
    "print(n_list[0:-1])"
   ]
  }
 ],
 "metadata": {
  "kernelspec": {
   "display_name": "Thisenviron",
   "language": "python",
   "name": "python3"
  },
  "language_info": {
   "codemirror_mode": {
    "name": "ipython",
    "version": 3
   },
   "file_extension": ".py",
   "mimetype": "text/x-python",
   "name": "python",
   "nbconvert_exporter": "python",
   "pygments_lexer": "ipython3",
   "version": "3.12.4"
  }
 },
 "nbformat": 4,
 "nbformat_minor": 5
}
