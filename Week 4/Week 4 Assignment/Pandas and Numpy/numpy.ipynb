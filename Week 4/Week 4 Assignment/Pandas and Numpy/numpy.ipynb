{
 "cells": [
  {
   "attachments": {
    "numpy.png": {
     "image/png": "[encoded data removed]"
    }
   },
   "cell_type": "markdown",
   "metadata": {},
   "source": [
    "# Python Libraries 1\n",
    "# Numpy ![numpy.png](attachment:numpy.png)"
   ]
  },
  {
   "cell_type": "code",
   "execution_count": 10,
   "metadata": {},
   "outputs": [],
   "source": [
    "import numpy"
   ]
  },
  {
   "cell_type": "code",
   "execution_count": 11,
   "metadata": {},
   "outputs": [],
   "source": [
    "l=[1,2,3]\n",
    "arr=numpy.array(l)"
   ]
  },
  {
   "cell_type": "code",
   "execution_count": 12,
   "metadata": {},
   "outputs": [
    {
     "data": {
      "text/plain": [
       "array([1, 2, 3])"
      ]
     },
     "execution_count": 12,
     "metadata": {},
     "output_type": "execute_result"
    }
   ],
   "source": [
    "arr"
   ]
  },
  {
   "cell_type": "code",
   "execution_count": 13,
   "metadata": {},
   "outputs": [],
   "source": [
    "import numpy as np"
   ]
  },
  {
   "cell_type": "code",
   "execution_count": 14,
   "metadata": {},
   "outputs": [
    {
     "data": {
      "text/plain": [
       "array([1, 2, 3])"
      ]
     },
     "execution_count": 14,
     "metadata": {},
     "output_type": "execute_result"
    }
   ],
   "source": [
    "np.array(l)"
   ]
  },
  {
   "cell_type": "code",
   "execution_count": 15,
   "metadata": {},
   "outputs": [],
   "source": [
    "arr_1=np.array([1,2,3])"
   ]
  },
  {
   "cell_type": "code",
   "execution_count": 16,
   "metadata": {},
   "outputs": [
    {
     "data": {
      "text/plain": [
       "array([1, 2, 3])"
      ]
     },
     "execution_count": 16,
     "metadata": {},
     "output_type": "execute_result"
    }
   ],
   "source": [
    "arr_1"
   ]
  },
  {
   "cell_type": "code",
   "execution_count": 17,
   "metadata": {},
   "outputs": [
    {
     "data": {
      "text/plain": [
       "array([2, 3, 4])"
      ]
     },
     "execution_count": 17,
     "metadata": {},
     "output_type": "execute_result"
    }
   ],
   "source": [
    "arr_1+1"
   ]
  },
  {
   "cell_type": "code",
   "execution_count": 18,
   "metadata": {},
   "outputs": [
    {
     "data": {
      "text/plain": [
       "array([2, 4, 6])"
      ]
     },
     "execution_count": 18,
     "metadata": {},
     "output_type": "execute_result"
    }
   ],
   "source": [
    "arr_1*2"
   ]
  },
  {
   "cell_type": "code",
   "execution_count": 19,
   "metadata": {},
   "outputs": [
    {
     "data": {
      "text/plain": [
       "[1, 2, 3, 2, 3, 4]"
      ]
     },
     "execution_count": 19,
     "metadata": {},
     "output_type": "execute_result"
    }
   ],
   "source": [
    "l_1=[1,2,3]\n",
    "l_2=[2,3,4]\n",
    "l_1+l_2"
   ]
  },
  {
   "cell_type": "code",
   "execution_count": 20,
   "metadata": {},
   "outputs": [],
   "source": [
    "arr_1=np.array(l_1)\n",
    "arr_2=np.array(l_2)"
   ]
  },
  {
   "cell_type": "code",
   "execution_count": 21,
   "metadata": {},
   "outputs": [
    {
     "data": {
      "text/plain": [
       "array([3, 5, 7])"
      ]
     },
     "execution_count": 21,
     "metadata": {},
     "output_type": "execute_result"
    }
   ],
   "source": [
    "arr_1+arr_2"
   ]
  },
  {
   "cell_type": "code",
   "execution_count": 22,
   "metadata": {},
   "outputs": [
    {
     "data": {
      "text/plain": [
       "6"
      ]
     },
     "execution_count": 22,
     "metadata": {},
     "output_type": "execute_result"
    }
   ],
   "source": [
    "arr_1.sum()"
   ]
  },
  {
   "cell_type": "code",
   "execution_count": 23,
   "metadata": {},
   "outputs": [
    {
     "data": {
      "text/plain": [
       "1"
      ]
     },
     "execution_count": 23,
     "metadata": {},
     "output_type": "execute_result"
    }
   ],
   "source": [
    "#Indexing\n",
    "arr_1[0]"
   ]
  },
  {
   "cell_type": "code",
   "execution_count": 24,
   "metadata": {},
   "outputs": [
    {
     "data": {
      "text/plain": [
       "3"
      ]
     },
     "execution_count": 24,
     "metadata": {},
     "output_type": "execute_result"
    }
   ],
   "source": [
    "arr_1[2]"
   ]
  },
  {
   "cell_type": "code",
   "execution_count": 25,
   "metadata": {},
   "outputs": [
    {
     "name": "stdout",
     "output_type": "stream",
     "text": [
      "1\n",
      "2\n",
      "3\n"
     ]
    }
   ],
   "source": [
    "for i in arr_1:\n",
    "    print(i)"
   ]
  },
  {
   "cell_type": "code",
   "execution_count": 26,
   "metadata": {},
   "outputs": [],
   "source": [
    "arr_2D=np.array([[1,1],[2,1],[3,2]])"
   ]
  },
  {
   "cell_type": "code",
   "execution_count": 27,
   "metadata": {},
   "outputs": [
    {
     "data": {
      "text/plain": [
       "array([[1, 1],\n",
       "       [2, 1],\n",
       "       [3, 2]])"
      ]
     },
     "execution_count": 27,
     "metadata": {},
     "output_type": "execute_result"
    }
   ],
   "source": [
    "arr_2D"
   ]
  },
  {
   "cell_type": "code",
   "execution_count": 28,
   "metadata": {},
   "outputs": [],
   "source": [
    "rand_array=np.random.random(size=[3,2])"
   ]
  },
  {
   "cell_type": "code",
   "execution_count": 29,
   "metadata": {},
   "outputs": [
    {
     "data": {
      "text/plain": [
       "array([[0., 0.],\n",
       "       [0., 0.],\n",
       "       [0., 0.]])"
      ]
     },
     "execution_count": 29,
     "metadata": {},
     "output_type": "execute_result"
    }
   ],
   "source": [
    "zero_array=np.zeros(shape=[3,2])\n",
    "zero_array"
   ]
  },
  {
   "cell_type": "code",
   "execution_count": 30,
   "metadata": {},
   "outputs": [
    {
     "data": {
      "text/plain": [
       "array([[0., 0.],\n",
       "       [0., 0.],\n",
       "       [0., 0.]])"
      ]
     },
     "execution_count": 30,
     "metadata": {},
     "output_type": "execute_result"
    }
   ],
   "source": [
    "zero_array"
   ]
  },
  {
   "cell_type": "code",
   "execution_count": 31,
   "metadata": {},
   "outputs": [],
   "source": [
    "rand_array=np.random.random(size=[5,5])"
   ]
  },
  {
   "cell_type": "code",
   "execution_count": 32,
   "metadata": {},
   "outputs": [
    {
     "data": {
      "text/plain": [
       "array([[0.15360996, 0.33633692, 0.84434166, 0.22792439, 0.97649185],\n",
       "       [0.12709125, 0.58700666, 0.04623382, 0.37696702, 0.72369837],\n",
       "       [0.48946554, 0.45728545, 0.1398896 , 0.29309848, 0.83048824],\n",
       "       [0.91960826, 0.24305439, 0.25731062, 0.72692634, 0.25759419],\n",
       "       [0.5946624 , 0.93099577, 0.94910739, 0.05108819, 0.90605568]])"
      ]
     },
     "execution_count": 32,
     "metadata": {},
     "output_type": "execute_result"
    }
   ],
   "source": [
    "rand_array"
   ]
  },
  {
   "cell_type": "code",
   "execution_count": 33,
   "metadata": {},
   "outputs": [
    {
     "data": {
      "text/plain": [
       "0.5870066642049973"
      ]
     },
     "execution_count": 33,
     "metadata": {},
     "output_type": "execute_result"
    }
   ],
   "source": [
    "rand_array[1,1]"
   ]
  },
  {
   "cell_type": "code",
   "execution_count": 34,
   "metadata": {},
   "outputs": [
    {
     "data": {
      "text/plain": [
       "array([[0.15360996, 0.33633692],\n",
       "       [0.12709125, 0.58700666]])"
      ]
     },
     "execution_count": 34,
     "metadata": {},
     "output_type": "execute_result"
    }
   ],
   "source": [
    "rand_array[0:2,0:2]"
   ]
  },
  {
   "cell_type": "code",
   "execution_count": 35,
   "metadata": {},
   "outputs": [
    {
     "data": {
      "text/plain": [
       "array([2.53870477, 1.86099713, 2.21022731, 2.40449379, 3.43190944])"
      ]
     },
     "execution_count": 35,
     "metadata": {},
     "output_type": "execute_result"
    }
   ],
   "source": [
    "rand_array.sum(axis=1)"
   ]
  },
  {
   "cell_type": "code",
   "execution_count": 36,
   "metadata": {},
   "outputs": [
    {
     "data": {
      "text/plain": [
       "2.08058552"
      ]
     },
     "execution_count": 36,
     "metadata": {},
     "output_type": "execute_result"
    }
   ],
   "source": [
    "np.array([0.4924862 , 0.58400964, 0.42182289, 0.31476085, 0.26750594]).sum()"
   ]
  },
  {
   "cell_type": "code",
   "execution_count": 37,
   "metadata": {},
   "outputs": [
    {
     "data": {
      "text/plain": [
       "array([[1.53609959, 3.36336916, 8.44341655, 2.27924389, 9.76491847],\n",
       "       [1.27091251, 5.87006664, 0.46233825, 3.76967022, 7.23698372],\n",
       "       [4.89465541, 4.57285445, 1.398896  , 2.93098478, 8.30488244],\n",
       "       [9.19608262, 2.43054391, 2.57310615, 7.2692634 , 2.57594187],\n",
       "       [5.94662402, 9.30995771, 9.49107394, 0.51088188, 9.06055683]])"
      ]
     },
     "execution_count": 37,
     "metadata": {},
     "output_type": "execute_result"
    }
   ],
   "source": [
    "rand_array*10"
   ]
  },
  {
   "cell_type": "code",
   "execution_count": 38,
   "metadata": {},
   "outputs": [
    {
     "data": {
      "text/plain": [
       "array([[0.15360996, 0.33633692, 0.84434166, 0.22792439, 0.97649185],\n",
       "       [0.12709125, 0.58700666, 0.04623382, 0.37696702, 0.72369837],\n",
       "       [0.48946554, 0.45728545, 0.1398896 , 0.29309848, 0.83048824],\n",
       "       [0.91960826, 0.24305439, 0.25731062, 0.72692634, 0.25759419],\n",
       "       [0.5946624 , 0.93099577, 0.94910739, 0.05108819, 0.90605568]])"
      ]
     },
     "execution_count": 38,
     "metadata": {},
     "output_type": "execute_result"
    }
   ],
   "source": [
    "rand_array"
   ]
  },
  {
   "cell_type": "code",
   "execution_count": 39,
   "metadata": {},
   "outputs": [],
   "source": [
    "rand_array=np.random.random(size=100)"
   ]
  },
  {
   "cell_type": "code",
   "execution_count": 40,
   "metadata": {},
   "outputs": [],
   "source": [
    "rand_array.sort()\n"
   ]
  },
  {
   "cell_type": "code",
   "execution_count": 41,
   "metadata": {},
   "outputs": [
    {
     "data": {
      "text/plain": [
       "array([0.04420172, 0.06400386, 0.0774742 , 0.08814522, 0.10138639,\n",
       "       0.11080695, 0.11489998, 0.13065171, 0.13206563, 0.13774297,\n",
       "       0.14061271, 0.14101761, 0.14733849, 0.15420555, 0.1589206 ,\n",
       "       0.15974666, 0.16420592, 0.16453419, 0.17601993, 0.19252011,\n",
       "       0.19525043, 0.20047166, 0.20128317, 0.20659506, 0.21941441,\n",
       "       0.22119869, 0.22378291, 0.22837944, 0.24719172, 0.26617749,\n",
       "       0.26916634, 0.27728968, 0.30494708, 0.30572391, 0.3074238 ,\n",
       "       0.31205537, 0.31295432, 0.3405928 , 0.35529194, 0.36611209,\n",
       "       0.37747418, 0.40287892, 0.40896327, 0.41671468, 0.42009168,\n",
       "       0.42410633, 0.4345835 , 0.45975531, 0.46426257, 0.46869533,\n",
       "       0.50389305, 0.50442147, 0.50817257, 0.51729429, 0.5568192 ,\n",
       "       0.5595333 , 0.56739482, 0.5687334 , 0.58753432, 0.59158028,\n",
       "       0.59270041, 0.59588051, 0.59854052, 0.62439803, 0.63490924,\n",
       "       0.63695248, 0.65523408, 0.65950359, 0.68031419, 0.68103294,\n",
       "       0.70204264, 0.70425754, 0.71372462, 0.72751706, 0.72957531,\n",
       "       0.73856238, 0.74581767, 0.75124951, 0.76378291, 0.77277558,\n",
       "       0.77564306, 0.77901221, 0.79242383, 0.8105369 , 0.83672024,\n",
       "       0.84998966, 0.85066777, 0.85781297, 0.86712488, 0.88252186,\n",
       "       0.88988182, 0.89480455, 0.90414203, 0.90782795, 0.91574549,\n",
       "       0.9468171 , 0.97603157, 0.9791409 , 0.98699631, 0.99481691])"
      ]
     },
     "execution_count": 41,
     "metadata": {},
     "output_type": "execute_result"
    }
   ],
   "source": [
    "rand_array"
   ]
  },
  {
   "cell_type": "code",
   "execution_count": 54,
   "metadata": {},
   "outputs": [
    {
     "name": "stdout",
     "output_type": "stream",
     "text": [
      "0.04420172183746418\n",
      "0.06400386087574661\n",
      "0.0774741970716889\n",
      "0.08814521845470169\n",
      "0.1013863897999604\n",
      "0.11080695457864742\n",
      "0.11489998414086211\n",
      "0.13065170980456886\n",
      "0.13206563156097895\n",
      "0.13774297179631612\n",
      "0.14061271437906409\n",
      "0.1410176092584433\n",
      "0.1473384873887862\n",
      "0.15420554924575802\n",
      "0.1589206022009253\n",
      "0.15974666404394444\n",
      "0.16420592250877764\n",
      "0.1645341864714378\n",
      "0.17601993353523926\n",
      "0.19252010664483887\n",
      "0.19525043044393642\n",
      "0.20047165802901157\n",
      "0.20128316817670766\n",
      "0.2065950611002808\n",
      "0.21941440632674203\n",
      "0.2211986870941226\n",
      "0.22378290785369093\n",
      "0.22837943791069004\n",
      "0.2471917210534348\n",
      "0.26617749149742764\n",
      "0.26916633533775103\n",
      "0.2772896812490582\n",
      "0.3049470768415803\n",
      "0.3057239070973108\n",
      "0.30742379594983016\n",
      "0.3120553661487102\n",
      "0.3129543197222261\n",
      "0.34059279509826923\n",
      "0.3552919391239253\n",
      "0.36611209286271873\n",
      "0.3774741753076134\n",
      "0.402878923766393\n",
      "0.40896326782319925\n",
      "0.4167146755410498\n",
      "0.42009168347857295\n",
      "0.42410632854524577\n",
      "0.4345834974424575\n",
      "0.4597553075176062\n",
      "0.46426256512475406\n",
      "0.46869533331394153\n",
      "0.5038930519869227\n",
      "0.5044214665327476\n",
      "0.50817257139664\n",
      "0.517294294305315\n",
      "0.5568191967075126\n",
      "0.5595333016208738\n",
      "0.5673948186986593\n",
      "0.5687333962976833\n",
      "0.5875343160733967\n",
      "0.5915802800331373\n",
      "0.5927004116683838\n",
      "0.5958805087948583\n",
      "0.5985405228336195\n",
      "0.6243980267968539\n",
      "0.6349092369895944\n",
      "0.636952480071126\n",
      "0.6552340812590366\n",
      "0.659503590064467\n",
      "0.6803141873882981\n",
      "0.68103294151259\n",
      "0.7020426371068655\n",
      "0.7042575386311863\n",
      "0.713724616242571\n",
      "0.727517063520915\n",
      "0.7295753061954348\n",
      "0.7385623765883044\n",
      "0.7458176742561412\n",
      "0.7512495067942448\n",
      "0.7637829072999874\n",
      "0.7727755811091039\n",
      "0.7756430632624157\n",
      "0.7790122082545271\n",
      "0.7924238333509843\n",
      "0.810536896443362\n",
      "0.8367202355729\n",
      "0.8499896592790601\n",
      "0.8506677729346845\n",
      "0.8578129705304864\n",
      "0.8671248838242639\n",
      "0.8825218608768091\n",
      "0.8898818236786009\n",
      "0.8948045533606922\n",
      "0.9041420329668081\n",
      "0.9078279486026511\n",
      "0.9157454928661244\n",
      "0.9468171002200654\n",
      "0.9760315685277648\n",
      "0.9791408981255268\n",
      "0.9869963133806839\n",
      "0.9948169083417937\n"
     ]
    }
   ],
   "source": [
    "for i in rand_array:\n",
    "    print(i)"
   ]
  },
  {
   "cell_type": "code",
   "execution_count": null,
   "metadata": {},
   "outputs": [],
   "source": [
    "# Exercises."
   ]
  },
  {
   "cell_type": "code",
   "execution_count": 43,
   "metadata": {},
   "outputs": [
    {
     "data": {
      "text/plain": [
       "500.0"
      ]
     },
     "execution_count": 43,
     "metadata": {},
     "output_type": "execute_result"
    }
   ],
   "source": [
    "x=np.linspace(0,10,100)\n",
    "x.sum()"
   ]
  },
  {
   "cell_type": "code",
   "execution_count": null,
   "metadata": {},
   "outputs": [],
   "source": []
  },
  {
   "cell_type": "code",
   "execution_count": 44,
   "metadata": {},
   "outputs": [
    {
     "data": {
      "text/plain": [
       "array([ 2.        ,  2.70707071,  3.41414141,  4.12121212,  4.82828283,\n",
       "        5.53535354,  6.24242424,  6.94949495,  7.65656566,  8.36363636,\n",
       "        9.07070707,  9.77777778, 10.48484848, 11.19191919, 11.8989899 ,\n",
       "       12.60606061, 13.31313131, 14.02020202, 14.72727273, 15.43434343,\n",
       "       16.14141414, 16.84848485, 17.55555556, 18.26262626, 18.96969697,\n",
       "       19.67676768, 20.38383838, 21.09090909, 21.7979798 , 22.50505051,\n",
       "       23.21212121, 23.91919192, 24.62626263, 25.33333333, 26.04040404,\n",
       "       26.74747475, 27.45454545, 28.16161616, 28.86868687, 29.57575758,\n",
       "       30.28282828, 30.98989899, 31.6969697 , 32.4040404 , 33.11111111,\n",
       "       33.81818182, 34.52525253, 35.23232323, 35.93939394, 36.64646465,\n",
       "       37.35353535, 38.06060606, 38.76767677, 39.47474747, 40.18181818,\n",
       "       40.88888889, 41.5959596 , 42.3030303 , 43.01010101, 43.71717172,\n",
       "       44.42424242, 45.13131313, 45.83838384, 46.54545455, 47.25252525,\n",
       "       47.95959596, 48.66666667, 49.37373737, 50.08080808, 50.78787879,\n",
       "       51.49494949, 52.2020202 , 52.90909091, 53.61616162, 54.32323232,\n",
       "       55.03030303, 55.73737374, 56.44444444, 57.15151515, 57.85858586,\n",
       "       58.56565657, 59.27272727, 59.97979798, 60.68686869, 61.39393939,\n",
       "       62.1010101 , 62.80808081, 63.51515152, 64.22222222, 64.92929293,\n",
       "       65.63636364, 66.34343434, 67.05050505, 67.75757576, 68.46464646,\n",
       "       69.17171717, 69.87878788, 70.58585859, 71.29292929, 72.        ])"
      ]
     },
     "execution_count": 44,
     "metadata": {},
     "output_type": "execute_result"
    }
   ],
   "source": [
    "#Calculate y=7x+2\n",
    "y=7*x+2\n",
    "y\n"
   ]
  },
  {
   "cell_type": "code",
   "execution_count": 45,
   "metadata": {},
   "outputs": [
    {
     "data": {
      "text/plain": [
       "array([0.        , 0.01020304, 0.04081216, 0.09182736, 0.16324865,\n",
       "       0.25507601, 0.36730946, 0.49994898, 0.65299459, 0.82644628])"
      ]
     },
     "execution_count": 45,
     "metadata": {},
     "output_type": "execute_result"
    }
   ],
   "source": [
    "#Calculate y=x**2 for the first 10 elements\n",
    "first_10=x[0:10]\n",
    "y=first_10**2\n",
    "y"
   ]
  },
  {
   "cell_type": "code",
   "execution_count": 90,
   "metadata": {},
   "outputs": [
    {
     "data": {
      "text/plain": [
       "0.040812162024283234"
      ]
     },
     "execution_count": 90,
     "metadata": {},
     "output_type": "execute_result"
    }
   ],
   "source": [
    "x[2]*x[2]"
   ]
  },
  {
   "cell_type": "code",
   "execution_count": 55,
   "metadata": {},
   "outputs": [],
   "source": [
    "#Define a 100 equally spaced points using linspace. And then another 100 random points. And then add x and y together\n",
    "x=np.linspace(0,10,100)\n",
    "\n",
    "y_out =np.random.random(size=100)\n"
   ]
  },
  {
   "cell_type": "code",
   "execution_count": 56,
   "metadata": {},
   "outputs": [],
   "source": [
    "#Add x and y together and save in z\n",
    "z=x+y_out"
   ]
  },
  {
   "cell_type": "code",
   "execution_count": 57,
   "metadata": {},
   "outputs": [
    {
     "name": "stdout",
     "output_type": "stream",
     "text": [
      "21.12017333620701\n"
     ]
    }
   ],
   "source": [
    "#Calculate the sum of of x,y and z and tell me which one is the largest\n",
    "\n",
    "list = x + y_out + z\n",
    "print(max(list))"
   ]
  },
  {
   "cell_type": "code",
   "execution_count": 58,
   "metadata": {},
   "outputs": [
    {
     "data": {
      "text/plain": [
       "array([ 0.93610017,  0.99686363,  0.25816087,  1.13692139,  0.77374294,\n",
       "        1.36285147,  1.48429658,  1.1547685 ,  1.41369007,  1.1684159 ,\n",
       "        1.16639705,  1.7638596 ,  1.80020384,  1.71809074,  1.56793663,\n",
       "        2.16859347,  2.17083454,  2.69691232,  2.32541997,  2.82970805,\n",
       "        2.10598298,  2.19913353,  2.81768034,  2.76552649,  3.35582875,\n",
       "        2.85407738,  3.04266345,  3.56054392,  3.47173313,  3.70414583,\n",
       "        3.41068025,  3.66622556,  3.41739547,  3.83432321,  3.47939343,\n",
       "        3.62919802,  4.31887298,  4.29550326,  4.48616551,  4.54953266,\n",
       "        4.3021253 ,  4.47370401,  4.57960585,  5.26561514,  5.05455288,\n",
       "        4.86958522,  5.16054078,  5.45904802,  5.64523167,  5.2156405 ,\n",
       "        5.99336135,  5.64465701,  5.38311707,  6.34380765,  6.14243243,\n",
       "        5.86211198,  5.87025634,  6.32480599,  5.93695436,  6.52168236,\n",
       "        6.19449543,  6.92125195,  7.07392812,  7.29277423,  7.34407298,\n",
       "        6.82493947,  7.37234011,  7.49354633,  7.71331276,  7.73657731,\n",
       "        7.17191833,  8.14930671,  7.31476633,  8.36734345,  8.16181674,\n",
       "        7.7533103 ,  8.48499184,  8.07155971,  7.98044082,  8.95691689,\n",
       "        8.13835489,  8.71951785,  8.44151145,  9.33840741,  8.54905339,\n",
       "        8.59978757,  9.4061108 ,  9.05954093,  9.33359687,  9.1606374 ,\n",
       "        9.88794891,  9.47169763, 10.00777223,  9.77095845, 10.34933832,\n",
       "       10.34955222, 10.56008667,  9.82118912, 10.55453259, 10.39732648])"
      ]
     },
     "execution_count": 58,
     "metadata": {},
     "output_type": "execute_result"
    }
   ],
   "source": [
    "z"
   ]
  },
  {
   "cell_type": "code",
   "execution_count": 59,
   "metadata": {},
   "outputs": [
    {
     "name": "stdout",
     "output_type": "stream",
     "text": [
      "500.0\n",
      "52.20374075931579\n",
      "552.2037407593159\n"
     ]
    }
   ],
   "source": [
    "print(x.sum())\n",
    "print(y_out.sum())\n",
    "print(z.sum())"
   ]
  },
  {
   "cell_type": "code",
   "execution_count": null,
   "metadata": {},
   "outputs": [],
   "source": []
  }
 ],
 "metadata": {
  "kernelspec": {
   "display_name": "Thisenviron",
   "language": "python",
   "name": "python3"
  },
  "language_info": {
   "codemirror_mode": {
    "name": "ipython",
    "version": 3
   },
   "file_extension": ".py",
   "mimetype": "text/x-python",
   "name": "python",
   "nbconvert_exporter": "python",
   "pygments_lexer": "ipython3",
   "version": "3.12.4"
  }
 },
 "nbformat": 4,
 "nbformat_minor": 2
}
